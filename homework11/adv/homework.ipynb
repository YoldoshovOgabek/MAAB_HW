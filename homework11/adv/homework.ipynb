{
 "cells": [
  {
   "cell_type": "code",
   "execution_count": 32,
   "metadata": {},
   "outputs": [],
   "source": [
    "from pyspark.sql import SparkSession\n",
    "from pyspark.sql.functions import col, avg, sum"
   ]
  },
  {
   "cell_type": "code",
   "execution_count": 33,
   "metadata": {},
   "outputs": [],
   "source": [
    "fact_internet_sales_df = spark.read.csv(\"fact_internet_sales.csv\", header=True, inferSchema=True)\n",
    "dim_product_df = spark.read.csv(\"dim_product.csv\", header=True, inferSchema=True)\n",
    "dim_customer_df = spark.read.csv(\"dim_customer.csv\", header=True, inferSchema=True)\n",
    "dim_date_df = spark.read.csv(\"dim_date.csv\", header=True, inferSchema=True)\n",
    "dim_currency_df = spark.read.csv(\"dim_currency.csv\", header=True, inferSchema=True)"
   ]
  },
  {
   "cell_type": "code",
   "execution_count": 34,
   "metadata": {},
   "outputs": [],
   "source": [
    "# dim_date_df = dim_date_df.filter(col('EnglishDayNameOfWeek')=='Sunday')"
   ]
  },
  {
   "cell_type": "code",
   "execution_count": 41,
   "metadata": {},
   "outputs": [],
   "source": [
    "# dim_product_df = dim_product_df.filter((col('Color') == 'Silver') & (col('Size').isNotNull()) & (col('Weight')>10))"
   ]
  },
  {
   "cell_type": "code",
   "execution_count": 44,
   "metadata": {},
   "outputs": [],
   "source": [
    "# dim_customer_df = dim_customer_df.filter((col('YearlyIncome') >100_000) & (col('TotalChildren') == 1))"
   ]
  },
  {
   "cell_type": "code",
   "execution_count": 48,
   "metadata": {},
   "outputs": [
    {
     "name": "stdout",
     "output_type": "stream",
     "text": [
      "+-----------+---------+----------------+--------------------+--------------------------+\n",
      "|CustomerKey|FirstName|Total Tax Amount|Average Sales Amount|Average Total Product Cost|\n",
      "+-----------+---------+----------------+--------------------+--------------------------+\n",
      "|      19696|     Adam|         45.1992|              564.99|                  308.2179|\n",
      "|      14433| Jennifer|        185.5992|             2319.99|                 1265.6195|\n",
      "|      15587|  Jessica|        165.7136|           2071.4196|                 1117.8559|\n",
      "|      11290|  Katelyn|        185.5992|             2319.99|                 1265.6195|\n",
      "|      15586|   Victor|        185.5992|             2319.99|                 1265.6195|\n",
      "|      14673|   Willie|        165.7136|           2071.4196|                 1117.8559|\n",
      "+-----------+---------+----------------+--------------------+--------------------------+\n",
      "\n"
     ]
    }
   ],
   "source": [
    "(dim_product_df.filter((col('Color') == 'Silver') & (col('Size').isNotNull()) & (col('Weight')>10))\n",
    "        .join(fact_internet_sales_df, on=\"ProductKey\", how=\"inner\")\n",
    "        .join(dim_customer_df.filter((col('YearlyIncome') >100_000) & (col('TotalChildren') == 1)), on=\"CustomerKey\", how=\"inner\")\n",
    "        .join(dim_date_df.filter(col('EnglishDayNameOfWeek')=='Sunday'), fact_internet_sales_df.OrderDateKey == dim_date_df.filter(col('EnglishDayNameOfWeek')=='Sunday').DateKey, how=\"inner\")\n",
    ").groupBy(\"CustomerKey\", \"FirstName\").agg(\n",
    "        sum(\"TaxAmt\").alias(\"Total Tax Amount\"),\n",
    "        avg(\"SalesAmount\").alias(\"Average Sales Amount\"),\n",
    "        avg(\"TotalProductCost\").alias(\"Average Total Product Cost\") \n",
    ").orderBy('FirstName', ascending = True).show()"
   ]
  }
 ],
 "metadata": {
  "kernelspec": {
   "display_name": "Python 3",
   "language": "python",
   "name": "python3"
  },
  "language_info": {
   "codemirror_mode": {
    "name": "ipython",
    "version": 3
   },
   "file_extension": ".py",
   "mimetype": "text/x-python",
   "name": "python",
   "nbconvert_exporter": "python",
   "pygments_lexer": "ipython3",
   "version": "3.13.0"
  }
 },
 "nbformat": 4,
 "nbformat_minor": 2
}
